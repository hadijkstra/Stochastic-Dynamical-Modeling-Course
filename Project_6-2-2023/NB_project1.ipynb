{
 "cells": [
  {
   "cell_type": "markdown",
   "id": "d8886cf6",
   "metadata": {},
   "source": [
    "Notebook for Application 1 of Stochastic Dynamical Modeling"
   ]
  },
  {
   "cell_type": "code",
   "execution_count": 1,
   "id": "2f9ef6f2",
   "metadata": {},
   "outputs": [],
   "source": [
    "from pylab import *\n",
    "import numpy\n",
    "import datetime\n",
    "import time\n",
    "import glob, os\n",
    "import math\n",
    "import matplotlib.colors as colors\n",
    "from scipy import stats"
   ]
  },
  {
   "cell_type": "markdown",
   "id": "1da038f5",
   "metadata": {},
   "source": [
    "Helpful functions "
   ]
  },
  {
   "cell_type": "code",
   "execution_count": 2,
   "id": "2c83a453",
   "metadata": {},
   "outputs": [],
   "source": [
    "def TrendRemover(time, data, trend_type):\n",
    "    \"\"\"Removes trend of choice, 1 = linear, 2 = quadratic, etc.\"\"\"\n",
    "   \t\n",
    "    rank     = polyfit(time, data, trend_type)\n",
    "    fitting  = np.zeros(len(time))\n",
    "  \t\t\n",
    "    for rank_i in range(len(rank)):\n",
    "        #Get the least-squre fit\n",
    "        fitting += rank[rank_i] * (time**(len(rank) - 1 - rank_i))\n",
    "    \n",
    "    #Subtract the fitted output\n",
    "    data -= fitting\n",
    "   \t\n",
    "    return data\n",
    "\t\n",
    "def FourierSpectrum(time_series):\n",
    "    \"\"\"Determine the Fourier Spectrum of a given time series\"\"\"\n",
    "    \n",
    "    freq_series \t= fft(time_series) \t\t\t\t\t#Take fourier spectrum\n",
    "    freq_series \t= ((real(freq_series)**2.0) + (imag(freq_series)**2.0)) #Determine power law (absolute value)\n",
    "    freq\t\t= fftfreq(len(time_series))\n",
    "    freq_series \t= freq_series[:freq.argmax()]\t\t\t\t#Restrict to f = 0.5\n",
    "    freq\t\t= freq[:freq.argmax()]\t\t\t\t\t#Restrict to f = 0.5\n",
    "    \n",
    "    return freq, freq_series\n",
    "    \n",
    "def YearConverter(X):\n",
    "\n",
    "    V = (1.0/(X)/365.0)\n",
    "\n",
    "    return [\"%.0f\" % z for z in V]"
   ]
  },
  {
   "cell_type": "markdown",
   "id": "7238ecc1",
   "metadata": {},
   "source": [
    "Read data file"
   ]
  },
  {
   "cell_type": "code",
   "execution_count": 4,
   "id": "b979b3c6",
   "metadata": {},
   "outputs": [],
   "source": [
    "file = open('SSH_SST_Pacific.txt', 'r')\n",
    "lines = file.readlines()\n",
    "file.close()\n",
    "\n",
    "time    = np.zeros(len(lines) - 3)\n",
    "ssh     = np.zeros(len(time))\n",
    "temp    = np.zeros(len(time))\n",
    "\n",
    "for time_i in range(len(time)):\n",
    "    #Read in the data\n",
    "    line = lines[time_i + 3].split()\n",
    "\n",
    "    #Save the corresponding data in the relevant array\n",
    "    time[time_i]    = datetime.datetime(int(line[2]), int(line[1]), int(line[0])).toordinal()\n",
    "    ssh[time_i]     = float(line[3])\n",
    "    temp[time_i]    = float(line[4])"
   ]
  },
  {
   "cell_type": "markdown",
   "id": "8a8b5ac9",
   "metadata": {},
   "source": [
    "Ex1: Plot the time series of SST and SSH "
   ]
  },
  {
   "cell_type": "markdown",
   "id": "854aa193",
   "metadata": {},
   "source": [
    "Ex2: Linear detrend both time series, Compute Fourier Spectrum"
   ]
  },
  {
   "cell_type": "markdown",
   "id": "e8511684",
   "metadata": {},
   "source": [
    "Ex3: Fit power-law decay exponents for large frequencies"
   ]
  },
  {
   "cell_type": "markdown",
   "id": "9e03e668",
   "metadata": {},
   "source": [
    "Euler-Maruyama scheme for SDE "
   ]
  },
  {
   "cell_type": "code",
   "execution_count": 6,
   "id": "ac9683a9",
   "metadata": {},
   "outputs": [],
   "source": [
    "gamma=1.0; sigma = 0.25; Xzero=1\n",
    "T=100; N=2**12; dt = float(T)/N\n",
    "t=np.linspace(0,T,N+1)\n",
    "\n",
    "dW=np.sqrt(dt)*np.random.randn(1,N)\n",
    "W=np.cumsum(dW)\n",
    "\n",
    "Xem=np.zeros(N+1); Xem[0] = Xzero\n",
    "for j in range(1,N+1):\n",
    "    Winc=np.sum(dW[0][range(j-1,j)])\n",
    "    Xem[j] = Xem[j-1] - dt*gamma*Xem[j-1] + sigma*Winc"
   ]
  },
  {
   "cell_type": "markdown",
   "id": "7a115eee",
   "metadata": {},
   "source": [
    "Ex4: Estimate parameters in the stochastic model for both SST and SSH data "
   ]
  },
  {
   "cell_type": "markdown",
   "id": "89ac9d2a",
   "metadata": {},
   "source": [
    "Ex5: Compare PDFs"
   ]
  },
  {
   "cell_type": "code",
   "execution_count": null,
   "id": "0230ddf9",
   "metadata": {},
   "outputs": [],
   "source": []
  }
 ],
 "metadata": {
  "kernelspec": {
   "display_name": "Python 3 (ipykernel)",
   "language": "python",
   "name": "python3"
  },
  "language_info": {
   "codemirror_mode": {
    "name": "ipython",
    "version": 3
   },
   "file_extension": ".py",
   "mimetype": "text/x-python",
   "name": "python",
   "nbconvert_exporter": "python",
   "pygments_lexer": "ipython3",
   "version": "3.9.7"
  }
 },
 "nbformat": 4,
 "nbformat_minor": 5
}
