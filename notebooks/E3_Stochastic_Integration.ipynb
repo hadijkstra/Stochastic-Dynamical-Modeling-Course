{
 "cells": [
  {
   "cell_type": "markdown",
   "id": "85179d74",
   "metadata": {},
   "source": [
    "# Stochastic Dynamical Models"
   ]
  },
  {
   "cell_type": "markdown",
   "id": "e86cca63",
   "metadata": {},
   "source": [
    "### Exercise 3: Stochastic integration "
   ]
  },
  {
   "cell_type": "code",
   "execution_count": 26,
   "id": "bd66827c",
   "metadata": {},
   "outputs": [],
   "source": [
    "import numpy as np\n",
    "import math"
   ]
  },
  {
   "cell_type": "code",
   "execution_count": 27,
   "id": "ff6eb553",
   "metadata": {},
   "outputs": [],
   "source": [
    "T=10; N=200000; dt=float(T)/N"
   ]
  },
  {
   "cell_type": "code",
   "execution_count": 28,
   "id": "8a2a46a6",
   "metadata": {},
   "outputs": [],
   "source": [
    "dW=np.sqrt(dt)*np.random.normal(0.0,1.0,N)\n",
    "W=np.cumsum(dW);\n",
    "W=np.insert(W,0,0)"
   ]
  },
  {
   "cell_type": "code",
   "execution_count": 29,
   "id": "b30d6933",
   "metadata": {},
   "outputs": [
    {
     "name": "stdout",
     "output_type": "stream",
     "text": [
      "-1.8057644297366555 0.006101731996056348\n"
     ]
    }
   ],
   "source": [
    "ito=np.sum(W[0:-1]*dW)\n",
    "itoerr=np.abs(ito-0.5*(W[-1]**2-T))\n",
    "print(ito,itoerr)"
   ]
  },
  {
   "cell_type": "code",
   "execution_count": null,
   "id": "ca7b5ce4",
   "metadata": {},
   "outputs": [],
   "source": []
  }
 ],
 "metadata": {
  "kernelspec": {
   "display_name": "Python 3 (ipykernel)",
   "language": "python",
   "name": "python3"
  },
  "language_info": {
   "codemirror_mode": {
    "name": "ipython",
    "version": 3
   },
   "file_extension": ".py",
   "mimetype": "text/x-python",
   "name": "python",
   "nbconvert_exporter": "python",
   "pygments_lexer": "ipython3",
   "version": "3.9.7"
  }
 },
 "nbformat": 4,
 "nbformat_minor": 5
}
