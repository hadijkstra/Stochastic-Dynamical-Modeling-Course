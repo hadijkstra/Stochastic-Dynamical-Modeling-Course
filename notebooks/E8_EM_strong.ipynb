{
 "cells": [
  {
   "cell_type": "markdown",
   "id": "e9818ef6",
   "metadata": {},
   "source": [
    "### Exercise 8: Strong Convergence EM"
   ]
  },
  {
   "cell_type": "code",
   "execution_count": 15,
   "id": "a479072d",
   "metadata": {},
   "outputs": [],
   "source": [
    "import numpy as np\n",
    "import matplotlib.pyplot as plt\n",
    "np.random.seed(100)\n",
    "\n",
    "gamma=2; mu=1; Xzero=1\n",
    "T=1; N=2**9; dt = float(T)/N\n",
    "M=1000"
   ]
  },
  {
   "cell_type": "code",
   "execution_count": 16,
   "id": "067f13a0",
   "metadata": {},
   "outputs": [],
   "source": [
    "def xrange(x):\n",
    "    return iter(range(x))\n",
    "\n",
    "Xerr=np.zeros((M,5))\n",
    "for s in xrange(M):\n",
    "    dW=np.sqrt(dt)*np.random.randn(1,N)\n",
    "    W=np.cumsum(dW)\n",
    "    Xtrue = Xzero*np.exp((gamma-0.5*mu**2)*T+mu*W[-1])\n",
    "    for p in range(5):\n",
    "        R=2**p; Dt=R*dt; L=N/R\n",
    "        Xem=Xzero\n",
    "        for j in xrange(int(L)+1):\n",
    "            Winc=np.sum(dW[0][range(R*(j-1),R*j)])\n",
    "            Xem += Dt*gamma*Xem + mu*Xem*Winc\n",
    "        Xerr[s,p]=np.abs(Xem-Xtrue)"
   ]
  },
  {
   "cell_type": "code",
   "execution_count": 17,
   "id": "9b18421f",
   "metadata": {},
   "outputs": [
    {
     "data": {
      "text/plain": [
       "Text(0.5, 1.0, 'emstrong.py')"
      ]
     },
     "execution_count": 17,
     "metadata": {},
     "output_type": "execute_result"
    },
    {
     "data": {
      "image/png": "[encoded data removed]",
      "text/plain": [
       "<Figure size 432x288 with 1 Axes>"
      ]
     },
     "metadata": {
      "needs_background": "light"
     },
     "output_type": "display_data"
    }
   ],
   "source": [
    "Dtvals=dt*(np.power(2,range(5)))\n",
    "plt.loglog(Dtvals,np.mean(Xerr,0),'b*-')\n",
    "plt.loglog(Dtvals,np.power(Dtvals,0.5),'r--')\n",
    "plt.axis([1e-3, 1e-1, 1e-4, 1])\n",
    "plt.xlabel('$\\Delta t$'); plt.ylabel('Sample average of $|X(T)-X_L|$')\n",
    "plt.title('emstrong.py',fontsize=16)"
   ]
  },
  {
   "cell_type": "code",
   "execution_count": 18,
   "id": "8a1f8d43",
   "metadata": {},
   "outputs": [
    {
     "name": "stdout",
     "output_type": "stream",
     "text": [
      "q =  0.4982397409413089\n",
      "residual =  0.044171893974402916\n"
     ]
    }
   ],
   "source": [
    "### Least squares fit of error = C * Dt^q ###\n",
    "A = np.column_stack((np.ones((5,1)), np.log(Dtvals))); rhs=np.log(np.mean(Xerr,0))\n",
    "sol = np.linalg.lstsq(A,rhs,rcond=None)[0]; q=sol[1]\n",
    "resid=np.linalg.norm(np.dot(A,sol) - rhs)\n",
    "print('q = ', q)\n",
    "print (\"residual = \", resid) \n"
   ]
  },
  {
   "cell_type": "code",
   "execution_count": null,
   "id": "ab121f62",
   "metadata": {},
   "outputs": [],
   "source": []
  }
 ],
 "metadata": {
  "kernelspec": {
   "display_name": "Python 3 (ipykernel)",
   "language": "python",
   "name": "python3"
  },
  "language_info": {
   "codemirror_mode": {
    "name": "ipython",
    "version": 3
   },
   "file_extension": ".py",
   "mimetype": "text/x-python",
   "name": "python",
   "nbconvert_exporter": "python",
   "pygments_lexer": "ipython3",
   "version": "3.9.7"
  }
 },
 "nbformat": 4,
 "nbformat_minor": 5
}
